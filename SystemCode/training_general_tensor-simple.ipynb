{
 "cells": [
  {
   "cell_type": "code",
   "execution_count": 1,
   "id": "9d89c4c3",
   "metadata": {},
   "outputs": [],
   "source": [
    "# training_general_tensor-with_augment_layer\n",
    "# pip install opencv-python"
   ]
  },
  {
   "cell_type": "code",
   "execution_count": 2,
   "id": "34b30226",
   "metadata": {},
   "outputs": [
    {
     "name": "stdout",
     "output_type": "stream",
     "text": [
      "Versions of key libraries\n",
      "---\n",
      "tensorflow:  2.9.0\n",
      "numpy:       1.22.3\n",
      "matplotlib:  3.5.2\n",
      "sklearn:     1.1.1\n",
      "[PhysicalDevice(name='/physical_device:CPU:0', device_type='CPU'), PhysicalDevice(name='/physical_device:GPU:0', device_type='GPU')]\n"
     ]
    }
   ],
   "source": [
    "import matplotlib\n",
    "import sklearn\n",
    "import numpy as np\n",
    "import pandas as pd\n",
    "import sklearn.metrics as metrics\n",
    "import matplotlib.pyplot as plt\n",
    "import pathlib\n",
    "import os\n",
    "import cv2\n",
    "import datetime\n",
    "\n",
    "from os import listdir\n",
    "from os.path import isfile, isdir, join\n",
    "from pathlib import Path\n",
    "\n",
    "import tensorflow as tf\n",
    "from tensorflow import keras\n",
    "from tensorflow.keras import layers\n",
    "from tensorflow.keras.callbacks import ModelCheckpoint,CSVLogger\n",
    "from tensorflow.keras.models import Sequential\n",
    "from tensorflow.keras.applications.vgg16 import VGG16\n",
    "from tensorflow.keras.applications import ResNet50\n",
    "from tensorflow.keras.layers import Dense\n",
    "from tensorflow.keras.layers import Dropout\n",
    "from tensorflow.keras.layers import Flatten\n",
    "from tensorflow.keras.layers import Conv2D\n",
    "from tensorflow.keras.layers import MaxPooling2D\n",
    "from tensorflow.keras.layers import AveragePooling2D\n",
    "from tensorflow.keras.layers import BatchNormalization\n",
    "from tensorflow.keras.models import Model\n",
    "from tensorflow.keras.layers import Input\n",
    "from tensorflow.keras.utils import to_categorical\n",
    "from tensorflow.keras.utils import plot_model\n",
    "from tensorflow.keras import optimizers\n",
    "from tensorflow.keras import regularizers\n",
    "from keras.models import load_model\n",
    "\n",
    "from sklearn.preprocessing import LabelBinarizer\n",
    "from sklearn.model_selection import train_test_split\n",
    "\n",
    "print(\"Versions of key libraries\")\n",
    "print(\"---\")\n",
    "print(\"tensorflow: \", tf.__version__)\n",
    "print(\"numpy:      \", np.__version__)\n",
    "print(\"matplotlib: \", matplotlib.__version__)\n",
    "print(\"sklearn:    \", sklearn.__version__)\n",
    "print(tf.config.list_physical_devices())"
   ]
  },
  {
   "cell_type": "code",
   "execution_count": 3,
   "id": "84658303",
   "metadata": {},
   "outputs": [],
   "source": [
    "modelname   = 'general-simple'\n",
    "pooling = False\n",
    "\n",
    "includeOld = False\n",
    "includeAnime = False\n",
    "includeSample = False\n",
    "\n",
    "model_savename = \"self_trained_c\"\n",
    "if pooling:\n",
    "    model_savename += \"_p\"\n",
    "if includeOld:\n",
    "    model_savename += \"_o\"\n",
    "if includeAnime:\n",
    "    model_savename += \"_a\"\n",
    "if includeSample:\n",
    "    model_savename += \"_s\"\n",
    "model_savename += \".hdf5\"\n",
    "\n",
    "IMG_SIZE = 224 #224 # Specify height and width of image to match the input format of the model\n",
    "IMG_WIDTH = 224 #224  #IMG_SIZE\n",
    "IMG_HEIGHT = 224  #160  #IMG_SIZE\n",
    "CHANNELS = 3 # Keep RGB color channels to match the input format of the model\n",
    "BATCH_SIZE = 32 # Big enough to measure an F1-score\n",
    "AUTOTUNE = tf.data.AUTOTUNE # Adapt preprocessing and prefetching dynamically\n",
    "SHUFFLE_BUFFER_SIZE = 1024 # Shuffle the training data by a chunck of 1024 observations\n",
    "SEED = 7\n",
    "N_LABELS = 0\n",
    "EPOCHS = 10\n",
    "OPT_IDX = 2\n",
    "ACTIVATION = 'softmax'\n",
    "\n",
    "class_names = []\n",
    "modelname = modelname+\"_\"+ACTIVATION+\"_\"+str(IMG_SIZE)+\"_\"+str(EPOCHS)+\"_\"+str(BATCH_SIZE)+\"_\"+str(OPT_IDX)\n",
    "optmzs = ['adam', optimizers.RMSprop(learning_rate=0.0001), optimizers.Adam(learning_rate=0.001)]\n",
    "optmz = optmzs[OPT_IDX]"
   ]
  },
  {
   "cell_type": "code",
   "execution_count": 4,
   "id": "48753998-ba25-4d24-bc33-bff7875a5304",
   "metadata": {},
   "outputs": [],
   "source": [
    "def readImagesFromDir(base_img_path='static/images/processed/'):\n",
    "    dirs = [d for d in listdir(base_img_path) if isdir(join(base_img_path, d)) and not d.startswith('.') and not d in ['oranda', 'common_goldfish']]\n",
    "\n",
    "    print(dirs)\n",
    "\n",
    "    X, y = [], []\n",
    "\n",
    "    for d in dirs:\n",
    "        img_path = base_img_path + d + \"/\"\n",
    "        files = [f for f in listdir(img_path) if isfile(join(img_path, f))]\n",
    "        X = X + [os.path.join(img_path, f) for f in files if f.lower().endswith(('.png', '.jpg', '.jpeg'))]\n",
    "        y = y + [d for f in files if f.lower().endswith(('.png', '.jpg', '.jpeg'))]\n",
    "        #print(d)\n",
    "\n",
    "    data_dir = Path(base_img_path)\n",
    "    image_count = len(list(data_dir.glob('*/*.*')))\n",
    "    \n",
    "    return X, y\n",
    "\n",
    "\n",
    "def preprocess_image(filename, label):\n",
    "    \"\"\"Function that returns a tuple of normalized image array and labels array.\n",
    "    Args:\n",
    "        filename: string representing path to image\n",
    "        label: 0/1 one-dimensional array of size N_LABELS\n",
    "    \"\"\"\n",
    "    # Read an image from a file\n",
    "    image_string = tf.io.read_file(filename)\n",
    "    # Decode it into a dense vector\n",
    "    image_decoded = tf.image.decode_jpeg(image_string, channels=CHANNELS)\n",
    "    # Resize it to fixed shape\n",
    "    #image_resized = tf.image.resize(image_decoded, [IMG_HEIGHT, IMG_WIDTH], preserve_aspect_ratio=True)\n",
    "    image_resized = tf.image.resize_with_pad(image_decoded, IMG_HEIGHT, IMG_WIDTH, antialias=False)\n",
    "    #image_cropped = tf.image.random_crop(image_resized, [IMG_HEIGHT, IMG_WIDTH, CHANNELS])\n",
    "    #image_rotated = tf.image.rot90(image_resized, k=0)\n",
    "    #image_flip = tf.image.flip_left_right(image_rotated)\n",
    "    # Normalise the image\n",
    "    #visualize_image(image_cropped, image_rotated)\n",
    "    image_normalized = image_resized / 255.0\n",
    "    \n",
    "    return image_normalized, label\n",
    "\n",
    "\n",
    "def create_dataset(filenames, labels, is_training=True):\n",
    "    \"\"\"Load and parse dataset.\n",
    "    Args:\n",
    "        filenames: list of image paths\n",
    "        labels: numpy array of shape (BATCH_SIZE, N_LABELS)\n",
    "        is_training: boolean to indicate training mode\n",
    "    \"\"\"\n",
    "    \n",
    "    # Create a first dataset of file paths and labels\n",
    "    dataset = tf.data.Dataset.from_tensor_slices((filenames, labels))\n",
    "    # Parse and preprocess observations in parallel\n",
    "    dataset = dataset.map(preprocess_image, num_parallel_calls=AUTOTUNE)\n",
    "    \n",
    "    if is_training == True:\n",
    "        #dataset = dataset.take(BATCH_SIZE)\n",
    "        # This is a small dataset, only load it once, and keep it in memory.\n",
    "        #dataset = dataset.cache()\n",
    "        #dataset = dataset.repeat()\n",
    "        # Shuffle the data each buffer size\n",
    "        dataset = dataset.shuffle(buffer_size=SHUFFLE_BUFFER_SIZE)\n",
    "        #dataset = dataset.repeat()\n",
    "        \n",
    "    # Batch the data for multiple steps    \n",
    "    dataset = dataset.batch(BATCH_SIZE)\n",
    "    # Fetch batches in the background while the model is training.\n",
    "    dataset = dataset.prefetch(buffer_size=AUTOTUNE)\n",
    "    \n",
    "    return dataset\n",
    "    \n",
    "def visualize_image(original, augmented):\n",
    "    org_img = tf.keras.utils.array_to_img(original)\n",
    "    fig = plt.figure()\n",
    "    plt.subplot(1,2,1)\n",
    "    plt.title('Original image')\n",
    "    plt.imshow(org_img)\n",
    "\n",
    "    aug_img = tf.keras.utils.array_to_img(augmented)\n",
    "    plt.subplot(1,2,2)\n",
    "    plt.title('Augmented image')\n",
    "    plt.imshow(aug_img)\n",
    "\n",
    "\n",
    "def predict_new_image(img_file):    \n",
    "    #img = tf.keras.utils.load_img(\n",
    "    #    img_file, target_size=(IMG_HEIGHT, IMG_WIDTH), keep_aspect_ratio=True\n",
    "    #)\n",
    "    img = tf.keras.utils.load_img(\n",
    "        img_file, target_size=None, keep_aspect_ratio=True\n",
    "    )\n",
    "\n",
    "    img_array = tf.keras.utils.img_to_array(img)\n",
    "    img_array = tf.keras.preprocessing.image.smart_resize(img_array, size=(IMG_HEIGHT, IMG_WIDTH))\n",
    "    img_array = tf.expand_dims(img_array, 0) # Create a batch\n",
    "    image_normalized = img_array / 255.0  # tf.image.per_image_standardization(img_array)\n",
    "\n",
    "    saved_model = load_model(model_file)\n",
    "\n",
    "    predictions = saved_model.predict(image_normalized)\n",
    "    score = tf.nn.softmax(predictions[0])\n",
    "    #score = tf.sigmoid(predictions[0])\n",
    "    #score = tf.nn.sigmoid_cross_entropy_with_logits(labels=class_names, logits=predictions[0])\n",
    "    #score = tf.math.sigmoid(predictions[0])\n",
    "    #score = tf.tanh(predictions[0])\n",
    "\n",
    "    #model.evaluate(img_array)\n",
    "    plt.imshow(img)\n",
    "    plt.show()\n",
    "\n",
    "    #print(predictions[0])\n",
    "\n",
    "    print(\n",
    "        \"This image most likely belongs to {} with a {:.2f} percent confidence.\"\n",
    "        .format(class_names[np.argmax(score)], 100 * np.max(score))\n",
    "    )\n",
    "    print()"
   ]
  },
  {
   "cell_type": "code",
   "execution_count": 5,
   "id": "84a3f18d-fa06-44e8-984a-f830f8760b40",
   "metadata": {},
   "outputs": [
    {
     "name": "stdout",
     "output_type": "stream",
     "text": [
      "['cat', 'dress', 'farm', 'hat', 'pants', 'parrot', 'rabbit', 'veg', 'vehicle']\n",
      "['cat', 'dress', 'farm', 'hat', 'pants', 'parrot', 'rabbit', 'veg', 'vehicle']\n",
      "['cat', 'dress', 'farm', 'hat', 'pants', 'parrot', 'rabbit', 'veg', 'vehicle']\n",
      "['cat', 'dress', 'farm', 'hat', 'pants', 'parrot', 'rabbit', 'veg', 'vehicle']\n",
      "0. cat\n",
      "1. dress\n",
      "2. farm\n",
      "3. hat\n",
      "4. pants\n",
      "5. parrot\n",
      "6. rabbit\n",
      "7. veg\n",
      "8. vehicle\n",
      "(285, 9)\n",
      "(285, 9)\n"
     ]
    }
   ],
   "source": [
    "X, Y = readImagesFromDir()\n",
    "processed_x, processed_y = readImagesFromDir('static/images/old_processed/')\n",
    "anime_x, anime_y = readImagesFromDir(base_img_path='static/images/anime_processed/')\n",
    "sample_x, sample_y = readImagesFromDir(base_img_path='static/images/sample/')\n",
    "\n",
    "if includeOld:\n",
    "    X = X + processed_x\n",
    "    Y = Y + processed_y\n",
    "if includeAnime:\n",
    "    X = X + anime_x\n",
    "    Y = Y + anime_y\n",
    "if includeSample:\n",
    "    X = X + sample_x\n",
    "    Y = Y + sample_y\n",
    "\n",
    "X_train, X_val, y_train, y_val = train_test_split(X, Y, test_size=0.2, shuffle=True, random_state=SEED)\n",
    "\n",
    "X_train = X\n",
    "X_val = X\n",
    "y_train = Y\n",
    "y_val = Y\n",
    "\n",
    "\n",
    "lb = LabelBinarizer()\n",
    "lb.fit(y_train)\n",
    "class_names = lb.classes_\n",
    "# Loop over all labels and show them    \n",
    "N_LABELS = len(class_names)\n",
    "for (i, label) in enumerate(class_names):\n",
    "    print(\"{}. {}\".format(i, label))\n",
    "\n",
    "# transform the targets of the training and test sets\n",
    "y_train_bin = lb.transform(y_train)\n",
    "y_val_bin = lb.transform(y_val)\n",
    "\n",
    "print(y_train_bin.shape)\n",
    "print(y_val_bin.shape)"
   ]
  },
  {
   "cell_type": "code",
   "execution_count": 6,
   "id": "777e557b-6713-4bb2-a72b-94da2cdbaf86",
   "metadata": {},
   "outputs": [
    {
     "name": "stdout",
     "output_type": "stream",
     "text": [
      "static/images/processed/vehicle/Vehicle060.jpg [0 0 0 0 0 0 0 0 1]\n",
      "static/images/processed/vehicle/Vehicle059.jpg [0 0 0 0 0 0 0 0 1]\n",
      "static/images/processed/vehicle/Vehicle058.jpg [0 0 0 0 0 0 0 0 1]\n",
      "static/images/processed/vehicle/Vehicle057.jpg [0 0 0 0 0 0 0 0 1]\n",
      "static/images/processed/vehicle/Vehicle056.jpg [0 0 0 0 0 0 0 0 1]\n",
      "static/images/processed/vehicle/Vehicle055.jpg [0 0 0 0 0 0 0 0 1]\n",
      "static/images/processed/vehicle/Vehicle054.jpg [0 0 0 0 0 0 0 0 1]\n",
      "static/images/processed/vehicle/Vehicle053.jpg [0 0 0 0 0 0 0 0 1]\n",
      "static/images/processed/vehicle/Vehicle052.jpg [0 0 0 0 0 0 0 0 1]\n",
      "static/images/processed/vehicle/Vehicle051.jpg [0 0 0 0 0 0 0 0 1]\n"
     ]
    }
   ],
   "source": [
    "# Print examples of fish and their binary targets\n",
    "for i in range(10):\n",
    "    print(X_train[len(X_train)-1 - i], y_train_bin[len(y_train_bin)-1 - i])"
   ]
  },
  {
   "cell_type": "code",
   "execution_count": 7,
   "id": "7c02b00a-1067-4c4f-9db3-f0bc07ceef91",
   "metadata": {},
   "outputs": [
    {
     "name": "stdout",
     "output_type": "stream",
     "text": [
      "Shape of features array: (32, 224, 224, 3)\n",
      "Shape of labels array: (32, 9)\n"
     ]
    },
    {
     "data": {
      "image/png": "[encoded data removed]",
      "text/plain": [
       "<Figure size 432x288 with 5 Axes>"
      ]
     },
     "metadata": {
      "needs_background": "light"
     },
     "output_type": "display_data"
    }
   ],
   "source": [
    "train_ds = create_dataset(X_train, y_train_bin)\n",
    "val_ds = create_dataset(X_val, y_val_bin, is_training=False)\n",
    "\n",
    "\n",
    "for images, labels in train_ds.take(1):\n",
    "    print(\"Shape of features array:\", images.numpy().shape)\n",
    "    print(\"Shape of labels array:\", labels.numpy().shape)\n",
    "    #plt.imshow(f.numpy().astype(\"uint8\"))\n",
    "    for i in range(5):\n",
    "        ax = plt.subplot(2, 3, i + 1)\n",
    "        img = tf.keras.utils.array_to_img(images[i])\n",
    "        plt.imshow(img)\n",
    "        plt.title(class_names[np.argmax(labels[i])])\n",
    "        plt.axis(\"off\")\n",
    "    "
   ]
  },
  {
   "cell_type": "code",
   "execution_count": 8,
   "id": "032fc149-5ca2-476c-ad3f-05feab494e3a",
   "metadata": {},
   "outputs": [],
   "source": [
    "image_augmentation = keras.Sequential(\n",
    "  [\n",
    "    layers.RandomFlip(mode=\"horizontal\",\n",
    "                      input_shape=(IMG_HEIGHT,\n",
    "                                   IMG_WIDTH,\n",
    "                                   CHANNELS), seed=SEED),\n",
    "#     layers.RandomRotation(0.2, seed=SEED)\n",
    "    #layers.RandomZoom(0.2, (0.2, 0.3)),\n",
    "  ]\n",
    ")"
   ]
  },
  {
   "cell_type": "code",
   "execution_count": 9,
   "id": "f0487832",
   "metadata": {},
   "outputs": [
    {
     "name": "stdout",
     "output_type": "stream",
     "text": [
      "Model: \"model\"\n",
      "_________________________________________________________________\n",
      " Layer (type)                Output Shape              Param #   \n",
      "=================================================================\n",
      " input_1 (InputLayer)        [(None, 224, 224, 3)]     0         \n",
      "                                                                 \n",
      " block1_conv1 (Conv2D)       (None, 224, 224, 64)      1792      \n",
      "                                                                 \n",
      " block1_conv2 (Conv2D)       (None, 224, 224, 64)      36928     \n",
      "                                                                 \n",
      " block1_pool (MaxPooling2D)  (None, 112, 112, 64)      0         \n",
      "                                                                 \n",
      " block2_conv1 (Conv2D)       (None, 112, 112, 128)     73856     \n",
      "                                                                 \n",
      " block2_conv2 (Conv2D)       (None, 112, 112, 128)     147584    \n",
      "                                                                 \n",
      " block2_pool (MaxPooling2D)  (None, 56, 56, 128)       0         \n",
      "                                                                 \n",
      " block3_conv1 (Conv2D)       (None, 56, 56, 256)       295168    \n",
      "                                                                 \n",
      " block3_conv2 (Conv2D)       (None, 56, 56, 256)       590080    \n",
      "                                                                 \n",
      " block3_conv3 (Conv2D)       (None, 56, 56, 256)       590080    \n",
      "                                                                 \n",
      " block3_pool (MaxPooling2D)  (None, 28, 28, 256)       0         \n",
      "                                                                 \n",
      " block4_conv1 (Conv2D)       (None, 28, 28, 512)       1180160   \n",
      "                                                                 \n",
      " block4_conv2 (Conv2D)       (None, 28, 28, 512)       2359808   \n",
      "                                                                 \n",
      " block4_conv3 (Conv2D)       (None, 28, 28, 512)       2359808   \n",
      "                                                                 \n",
      " block4_pool (MaxPooling2D)  (None, 14, 14, 512)       0         \n",
      "                                                                 \n",
      " block5_conv1 (Conv2D)       (None, 14, 14, 512)       2359808   \n",
      "                                                                 \n",
      " block5_conv2 (Conv2D)       (None, 14, 14, 512)       2359808   \n",
      "                                                                 \n",
      " block5_conv3 (Conv2D)       (None, 14, 14, 512)       2359808   \n",
      "                                                                 \n",
      " block5_pool (MaxPooling2D)  (None, 7, 7, 512)         0         \n",
      "                                                                 \n",
      " flatten (Flatten)           (None, 25088)             0         \n",
      "                                                                 \n",
      " dense (Dense)               (None, 128)               3211392   \n",
      "                                                                 \n",
      " dense_1 (Dense)             (None, 9)                 1161      \n",
      "                                                                 \n",
      "=================================================================\n",
      "Total params: 17,927,241\n",
      "Trainable params: 3,212,553\n",
      "Non-trainable params: 14,714,688\n",
      "_________________________________________________________________\n"
     ]
    }
   ],
   "source": [
    "def createModel():\n",
    "    base_model = VGG16(input_shape=(224, 224, 3),  # Shape of our images\n",
    "                       include_top=False,  # Leave out the last fully connected layer\n",
    "                       weights='imagenet')\n",
    "\n",
    "    for layer in base_model.layers:\n",
    "        layer.trainable = False\n",
    "        # print(layer)\n",
    "#     base_model.summary()\n",
    "    x = base_model.output\n",
    "    if pooling:\n",
    "        x = AveragePooling2D(pool_size=(7, 7))(x)\n",
    "    x = layers.Flatten()(x)\n",
    "    x = Dense(128,activation='relu')(x)\n",
    "    x = Dense(N_LABELS, activation=ACTIVATION)(x)\n",
    "    model = Model(base_model.input, x)\n",
    "    model.compile(loss='categorical_crossentropy', optimizer=optmz, metrics=['accuracy'])\n",
    "    return model\n",
    "\n",
    "def createModelRes():\n",
    "    base_model = ResNet50(input_shape=(224, 224, 3),  # Shape of our images\n",
    "                       include_top=False,  # Leave out the last fully connected layer\n",
    "                       weights='imagenet')\n",
    "\n",
    "    for layer in base_model.layers:\n",
    "        layer.trainable = False\n",
    "        # print(layer)\n",
    "#     base_model.summary()\n",
    "    x = base_model.output\n",
    "    if pooling:\n",
    "        x = AveragePooling2D(pool_size=(7, 7))(x)\n",
    "    x = layers.Flatten()(x)\n",
    "    x = Dense(128,activation='relu')(x)\n",
    "    x = Dense(N_LABELS, activation=ACTIVATION)(x)\n",
    "    model = Model(base_model.input, x)\n",
    "    model.compile(loss='categorical_crossentropy', optimizer=optmz, metrics=['accuracy'])\n",
    "    return model\n",
    "\n",
    "model       = createModel() # This is meant for training\n",
    "model.summary()"
   ]
  },
  {
   "cell_type": "code",
   "execution_count": 10,
   "id": "dced975a",
   "metadata": {},
   "outputs": [
    {
     "name": "stdout",
     "output_type": "stream",
     "text": [
      "Path to model: models/general-simple_softmax_224_10_32_2_2023-05-19_19-05-37.hdf5\n",
      "Path to log:   models/general-simple_softmax_224_10_32_2_2023-05-19_19-05-37.csv\n"
     ]
    }
   ],
   "source": [
    "                                                                                # Step 1\n",
    "modelname       = modelname+\"_\"+str(datetime.datetime.now())[:-7].replace(' ','_').replace(\":\",'-')\n",
    "folderpath      = 'models/'\n",
    "model_file      = folderpath + modelname + \".hdf5\"\n",
    "checkpoint      = ModelCheckpoint(model_file, \n",
    "                                  monitor='val_accuracy', \n",
    "                                  verbose=0, \n",
    "                                  save_best_only=True, \n",
    "                                  mode='max')\n",
    "\n",
    "csv_logger      = CSVLogger(folderpath+modelname +'.csv')                       # Step 2\n",
    "callbacks_list  = [checkpoint,csv_logger]                                       # Step 3\n",
    "\n",
    "print(\"Path to model:\", model_file)\n",
    "print(\"Path to log:  \", folderpath+modelname+'.csv')"
   ]
  },
  {
   "cell_type": "code",
   "execution_count": 11,
   "id": "6b8e5e56",
   "metadata": {},
   "outputs": [
    {
     "name": "stdout",
     "output_type": "stream",
     "text": [
      "Path to plot: models/general-simple_softmax_224_10_32_2_2023-05-19_19-05-37_plot.png\n"
     ]
    }
   ],
   "source": [
    "plotpath  = folderpath+modelname+'_plot.png'\n",
    "plot_model(model, \n",
    "           to_file=plotpath, \n",
    "           show_shapes=True, \n",
    "           show_layer_names=False,\n",
    "           rankdir='TB')\n",
    "print(\"Path to plot:\", plotpath)"
   ]
  },
  {
   "cell_type": "code",
   "execution_count": 12,
   "id": "b0b245d2",
   "metadata": {},
   "outputs": [
    {
     "name": "stdout",
     "output_type": "stream",
     "text": [
      "Epoch 1/10\n",
      "9/9 [==============================] - 9s 476ms/step - loss: 3.2661 - accuracy: 0.2982 - val_loss: 1.3572 - val_accuracy: 0.5789\n",
      "Epoch 2/10\n",
      "9/9 [==============================] - 3s 272ms/step - loss: 0.8822 - accuracy: 0.6912 - val_loss: 0.6424 - val_accuracy: 0.7965\n",
      "Epoch 3/10\n",
      "9/9 [==============================] - 2s 268ms/step - loss: 0.3720 - accuracy: 0.8912 - val_loss: 0.2565 - val_accuracy: 0.9193\n",
      "Epoch 4/10\n",
      "9/9 [==============================] - 2s 266ms/step - loss: 0.1884 - accuracy: 0.9544 - val_loss: 0.1055 - val_accuracy: 0.9895\n",
      "Epoch 5/10\n",
      "9/9 [==============================] - 2s 273ms/step - loss: 0.0864 - accuracy: 0.9965 - val_loss: 0.0521 - val_accuracy: 0.9930\n",
      "Epoch 6/10\n",
      "9/9 [==============================] - 2s 262ms/step - loss: 0.0493 - accuracy: 0.9930 - val_loss: 0.0362 - val_accuracy: 0.9965\n",
      "Epoch 7/10\n",
      "9/9 [==============================] - 2s 244ms/step - loss: 0.0320 - accuracy: 0.9965 - val_loss: 0.0259 - val_accuracy: 0.9965\n",
      "Epoch 8/10\n",
      "9/9 [==============================] - 2s 261ms/step - loss: 0.0234 - accuracy: 0.9965 - val_loss: 0.0205 - val_accuracy: 1.0000\n",
      "Epoch 9/10\n",
      "9/9 [==============================] - 2s 245ms/step - loss: 0.0186 - accuracy: 1.0000 - val_loss: 0.0166 - val_accuracy: 1.0000\n",
      "Epoch 10/10\n",
      "9/9 [==============================] - 2s 246ms/step - loss: 0.0159 - accuracy: 1.0000 - val_loss: 0.0142 - val_accuracy: 1.0000\n",
      "duration =  0.52  minutes\n"
     ]
    }
   ],
   "source": [
    "import time as time\n",
    "\n",
    "start = time.time()\n",
    "history = model.fit(train_ds,                            # Training data and label\n",
    "          validation_data=val_ds,   # Validation data and label\n",
    "          epochs=EPOCHS,                       # The amount of epochs to be trained\n",
    "          batch_size=BATCH_SIZE,                   \n",
    "          shuffle=True,                     # To shuffle the training data\n",
    "          callbacks=callbacks_list)         # Callbacks to execute the checkpoints\n",
    "\n",
    "end = time.time()\n",
    "duration = round(((end - start)/60), 2)\n",
    "print(\"duration = \", duration, \" minutes\")"
   ]
  },
  {
   "cell_type": "code",
   "execution_count": 13,
   "id": "f7ea6f75",
   "metadata": {},
   "outputs": [
    {
     "data": {
      "image/png": "[encoded data removed]",
      "text/plain": [
       "<Figure size 576x576 with 2 Axes>"
      ]
     },
     "metadata": {
      "needs_background": "light"
     },
     "output_type": "display_data"
    }
   ],
   "source": [
    "# Plot the accuracy and error on training and test sets\n",
    "\n",
    "acc = history.history['accuracy']\n",
    "val_acc = history.history['val_accuracy']\n",
    "\n",
    "loss = history.history['loss']\n",
    "val_loss = history.history['val_loss']\n",
    "\n",
    "epochs_range = range(EPOCHS)\n",
    "\n",
    "plt.figure(figsize=(8, 8))\n",
    "plt.subplot(1, 2, 1)\n",
    "plt.plot(epochs_range, acc, label='Training Accuracy')\n",
    "plt.plot(epochs_range, val_acc, label='Validation Accuracy')\n",
    "plt.legend(loc='lower right')\n",
    "plt.title('Training and Validation Accuracy')\n",
    "\n",
    "plt.subplot(1, 2, 2)\n",
    "plt.plot(epochs_range, loss, label='Training Loss')\n",
    "plt.plot(epochs_range, val_loss, label='Validation Loss')\n",
    "plt.legend(loc='upper right')\n",
    "plt.title('Training and Validation Loss')\n",
    "plt.savefig(folderpath+modelname+'_accuracy_plot.png')\n",
    "plt.show()"
   ]
  },
  {
   "cell_type": "code",
   "execution_count": 14,
   "id": "298b829c",
   "metadata": {},
   "outputs": [
    {
     "name": "stdout",
     "output_type": "stream",
     "text": [
      "9/9 [==============================] - 1s 110ms/step\n",
      "Prediction completes.\n"
     ]
    }
   ],
   "source": [
    "# model_file = \"models/simple_best.hdf5\"\n",
    "# Step 1\n",
    "modelGo = load_model(model_file)\n",
    "\n",
    "predicts    = modelGo.predict(val_ds)                                            # Step 2\n",
    "print(\"Prediction completes.\")"
   ]
  },
  {
   "cell_type": "code",
   "execution_count": 15,
   "id": "1a828a8d",
   "metadata": {},
   "outputs": [
    {
     "name": "stdout",
     "output_type": "stream",
     "text": [
      "Best accuracy (on testing dataset): 100.00%\n",
      "              precision    recall  f1-score   support\n",
      "\n",
      "         cat     1.0000    1.0000    1.0000        19\n",
      "       dress     1.0000    1.0000    1.0000        20\n",
      "        farm     1.0000    1.0000    1.0000        57\n",
      "         hat     1.0000    1.0000    1.0000        24\n",
      "       pants     1.0000    1.0000    1.0000        21\n",
      "      parrot     1.0000    1.0000    1.0000        20\n",
      "      rabbit     1.0000    1.0000    1.0000        20\n",
      "         veg     1.0000    1.0000    1.0000        44\n",
      "     vehicle     1.0000    1.0000    1.0000        60\n",
      "\n",
      "    accuracy                         1.0000       285\n",
      "   macro avg     1.0000    1.0000    1.0000       285\n",
      "weighted avg     1.0000    1.0000    1.0000       285\n",
      "\n"
     ]
    }
   ],
   "source": [
    "                                                                                # Step 1\n",
    "                                                                                # Step 2\n",
    "predout     = np.argmax(predicts,axis=1)\n",
    "testout     = np.argmax(y_val_bin,axis=1)\n",
    "\n",
    "testScores  = metrics.accuracy_score(testout,predout)                           # Step 3\n",
    "\n",
    "                                                                                # Step 4\n",
    "print(\"Best accuracy (on testing dataset): %.2f%%\" % (testScores*100))\n",
    "print(metrics.classification_report(testout,\n",
    "                                    predout,\n",
    "                                    target_names=class_names,\n",
    "                                    digits=4))\n",
    "\n",
    "report = metrics.classification_report(testout,\n",
    "                                    predout,\n",
    "                                    target_names=class_names,\n",
    "                                    digits=4,\n",
    "                                      output_dict=True)\n",
    "\n",
    "df = pd.DataFrame(report).transpose()\n",
    "df.to_csv(folderpath+modelname+'_report.csv')"
   ]
  },
  {
   "cell_type": "code",
   "execution_count": 16,
   "id": "42557859",
   "metadata": {},
   "outputs": [
    {
     "data": {
      "image/png": "[encoded data removed]",
      "text/plain": [
       "<Figure size 432x288 with 2 Axes>"
      ]
     },
     "metadata": {
      "needs_background": "light"
     },
     "output_type": "display_data"
    }
   ],
   "source": [
    "from sklearn.metrics import ConfusionMatrixDisplay\n",
    "from sklearn.metrics import confusion_matrix\n",
    "import matplotlib.pyplot as plt\n",
    "import numpy as np\n",
    "\n",
    "cm = confusion_matrix(y_val_bin.argmax(axis = 1), predicts.argmax(axis = 1))\n",
    "\n",
    "disp = ConfusionMatrixDisplay(confusion_matrix = cm, display_labels = class_names)\n",
    "\n",
    "disp.plot(cmap = plt.cm.Blues)\n",
    "plt.show()"
   ]
  },
  {
   "cell_type": "code",
   "execution_count": 17,
   "id": "7e1fccd3-58d8-4649-a70c-bf8d50891ac1",
   "metadata": {},
   "outputs": [
    {
     "data": {
      "text/html": [
       "<div>\n",
       "<style scoped>\n",
       "    .dataframe tbody tr th:only-of-type {\n",
       "        vertical-align: middle;\n",
       "    }\n",
       "\n",
       "    .dataframe tbody tr th {\n",
       "        vertical-align: top;\n",
       "    }\n",
       "\n",
       "    .dataframe thead th {\n",
       "        text-align: right;\n",
       "    }\n",
       "</style>\n",
       "<table border=\"1\" class=\"dataframe\">\n",
       "  <thead>\n",
       "    <tr style=\"text-align: right;\">\n",
       "      <th></th>\n",
       "      <th>file</th>\n",
       "      <th>fish</th>\n",
       "      <th>testout</th>\n",
       "      <th>predout</th>\n",
       "    </tr>\n",
       "  </thead>\n",
       "  <tbody>\n",
       "  </tbody>\n",
       "</table>\n",
       "</div>"
      ],
      "text/plain": [
       "Empty DataFrame\n",
       "Columns: [file, fish, testout, predout]\n",
       "Index: []"
      ]
     },
     "execution_count": 17,
     "metadata": {},
     "output_type": "execute_result"
    }
   ],
   "source": [
    "resdf = pd.DataFrame()\n",
    "resdf[\"file\"] = X_val\n",
    "resdf[\"fish\"] = y_val\n",
    "resdf[\"testout\"] = testout\n",
    "resdf[\"predout\"] = predout\n",
    "wrong_pred = resdf[resdf.testout !=resdf.predout]\n",
    "wrong_pred"
   ]
  },
  {
   "cell_type": "code",
   "execution_count": 18,
   "id": "71ee817f",
   "metadata": {},
   "outputs": [],
   "source": [
    "from keras.models import Model\n",
    "modelGo.save(folderpath + model_savename)"
   ]
  },
  {
   "cell_type": "code",
   "execution_count": 19,
   "id": "1d883508-e08b-4f59-a60c-fa4ad37dd66d",
   "metadata": {},
   "outputs": [],
   "source": [
    "# make predictions\n",
    "\n",
    "def showimage(img_file):\n",
    "    img = tf.keras.utils.load_img(\n",
    "        img_file, target_size=None, keep_aspect_ratio=True\n",
    "    )\n",
    "    plt.imshow(img)\n",
    "    plt.show()\n",
    "\n",
    "for i in range(wrong_pred.shape[0]):\n",
    "    row = wrong_pred.iloc[i]\n",
    "    showimage(row.file)\n",
    "#     predict_new_image(row.file)\n",
    "    print(\"File: {} with type {} \\nexpected out \\t{} \\npredicted out \\t{}\".format(row.file, row.fish, class_names[row.testout], class_names[row.predout]))\n"
   ]
  },
  {
   "cell_type": "code",
   "execution_count": null,
   "id": "5bde31fb",
   "metadata": {},
   "outputs": [],
   "source": []
  }
 ],
 "metadata": {
  "kernelspec": {
   "display_name": "Python 3 (ipykernel)",
   "language": "python",
   "name": "python3"
  },
  "language_info": {
   "codemirror_mode": {
    "name": "ipython",
    "version": 3
   },
   "file_extension": ".py",
   "mimetype": "text/x-python",
   "name": "python",
   "nbconvert_exporter": "python",
   "pygments_lexer": "ipython3",
   "version": "3.9.12"
  },
  "vscode": {
   "interpreter": {
    "hash": "a37ced8f0854a0daddbf698fe6d533328212cbd9f66e8637cf90083ac0ac7e4f"
   }
  }
 },
 "nbformat": 4,
 "nbformat_minor": 5
}
